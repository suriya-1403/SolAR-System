{
 "cells": [
  {
   "cell_type": "markdown",
   "source": [
    "# Package Importing"
   ],
   "metadata": {
    "collapsed": false,
    "pycharm": {
     "name": "#%% md\n"
    }
   }
  },
  {
   "cell_type": "code",
   "execution_count": 40,
   "metadata": {
    "collapsed": true
   },
   "outputs": [],
   "source": [
    "import tweepy\n",
    "import webbrowser\n",
    "import pandas as pd\n",
    "import time"
   ]
  },
  {
   "cell_type": "code",
   "execution_count": 5,
   "outputs": [],
   "source": [
    "from flask import jsonify\n",
    "\n",
    "ConsumerKey = \"ZZwoqHrr2nQOSPZljQgjf0gZp\"\n",
    "ConsumerSecretKey =\"Ilb6u3qOdtZf6QaNqh1dbnq5jHu4nKqas61lOQ7GgZsiSfXdxu\""
   ],
   "metadata": {
    "collapsed": false,
    "pycharm": {
     "name": "#%%\n"
    }
   }
  },
  {
   "cell_type": "code",
   "execution_count": 6,
   "outputs": [],
   "source": [
    "callback_uri ='oob'"
   ],
   "metadata": {
    "collapsed": false,
    "pycharm": {
     "name": "#%%\n"
    }
   }
  },
  {
   "cell_type": "code",
   "execution_count": 11,
   "outputs": [
    {
     "name": "stdout",
     "output_type": "stream",
     "text": [
      "https://api.twitter.com/oauth/authorize?oauth_token=e3aS3QAAAAABRCZKAAABekQPAkE\n"
     ]
    }
   ],
   "source": [
    "auth = tweepy.OAuthHandler(ConsumerKey,ConsumerSecretKey,callback_uri)\n",
    "redirect_url = auth.get_authorization_url()\n",
    "print(redirect_url)\n"
   ],
   "metadata": {
    "collapsed": false,
    "pycharm": {
     "name": "#%%\n"
    }
   }
  },
  {
   "cell_type": "code",
   "execution_count": null,
   "outputs": [],
   "source": [
    "webbrowser.open(redirect_url)"
   ],
   "metadata": {
    "collapsed": false,
    "pycharm": {
     "name": "#%%\n"
    }
   }
  },
  {
   "cell_type": "code",
   "execution_count": 12,
   "outputs": [],
   "source": [
    "user_pint_input = input(\"Whats the Pin value? \")"
   ],
   "metadata": {
    "collapsed": false,
    "pycharm": {
     "name": "#%%\n"
    }
   }
  },
  {
   "cell_type": "code",
   "execution_count": 13,
   "outputs": [
    {
     "name": "stdout",
     "output_type": "stream",
     "text": [
      "3301004\n"
     ]
    }
   ],
   "source": [
    "print(user_pint_input)\n"
   ],
   "metadata": {
    "collapsed": false,
    "pycharm": {
     "name": "#%%\n"
    }
   }
  },
  {
   "cell_type": "code",
   "execution_count": 15,
   "outputs": [
    {
     "data": {
      "text/plain": "('790708840303964160-wEBtY5ME2pkdylOJ46ISc7kEPa9j82U',\n 'DGIJS4bLAnk3ihds4uUdc4qaq4nUTWYwGI5TFPuaiD4uW')"
     },
     "execution_count": 15,
     "metadata": {},
     "output_type": "execute_result"
    }
   ],
   "source": [
    "auth.get_access_token(user_pint_input)"
   ],
   "metadata": {
    "collapsed": false,
    "pycharm": {
     "name": "#%%\n"
    }
   }
  },
  {
   "cell_type": "code",
   "execution_count": 16,
   "outputs": [
    {
     "name": "stdout",
     "output_type": "stream",
     "text": [
      "790708840303964160-wEBtY5ME2pkdylOJ46ISc7kEPa9j82U DGIJS4bLAnk3ihds4uUdc4qaq4nUTWYwGI5TFPuaiD4uW\n"
     ]
    }
   ],
   "source": [
    "print(auth.access_token,auth.access_token_secret)"
   ],
   "metadata": {
    "collapsed": false,
    "pycharm": {
     "name": "#%%\n"
    }
   }
  },
  {
   "cell_type": "code",
   "execution_count": 17,
   "outputs": [],
   "source": [
    "api = tweepy.API(auth)"
   ],
   "metadata": {
    "collapsed": false,
    "pycharm": {
     "name": "#%%\n"
    }
   }
  },
  {
   "cell_type": "code",
   "execution_count": 18,
   "outputs": [
    {
     "name": "stdout",
     "output_type": "stream",
     "text": [
      "Suriya_1403\n"
     ]
    }
   ],
   "source": [
    "me = api.me()\n",
    "print(me.screen_name)"
   ],
   "metadata": {
    "collapsed": false,
    "pycharm": {
     "name": "#%%\n"
    }
   }
  },
  {
   "cell_type": "code",
   "execution_count": 30,
   "outputs": [],
   "source": [
    "new_status = api.update_status(\"Hello World from the Tweepy!!\")\n",
    "new_status.destroy()"
   ],
   "metadata": {
    "collapsed": false,
    "pycharm": {
     "name": "#%%\n"
    }
   }
  },
  {
   "cell_type": "code",
   "execution_count": 23,
   "outputs": [
    {
     "data": {
      "text/plain": "['__class__',\n '__delattr__',\n '__dict__',\n '__dir__',\n '__doc__',\n '__eq__',\n '__format__',\n '__ge__',\n '__getattribute__',\n '__getstate__',\n '__gt__',\n '__hash__',\n '__init__',\n '__init_subclass__',\n '__le__',\n '__lt__',\n '__module__',\n '__ne__',\n '__new__',\n '__reduce__',\n '__reduce_ex__',\n '__repr__',\n '__setattr__',\n '__sizeof__',\n '__str__',\n '__subclasshook__',\n '__weakref__',\n '_api',\n '_json',\n 'author',\n 'contributors',\n 'coordinates',\n 'created_at',\n 'destroy',\n 'entities',\n 'favorite',\n 'favorite_count',\n 'favorited',\n 'geo',\n 'id',\n 'id_str',\n 'in_reply_to_screen_name',\n 'in_reply_to_status_id',\n 'in_reply_to_status_id_str',\n 'in_reply_to_user_id',\n 'in_reply_to_user_id_str',\n 'is_quote_status',\n 'lang',\n 'parse',\n 'parse_list',\n 'place',\n 'retweet',\n 'retweet_count',\n 'retweeted',\n 'retweets',\n 'source',\n 'source_url',\n 'text',\n 'truncated',\n 'user']"
     },
     "execution_count": 23,
     "metadata": {},
     "output_type": "execute_result"
    }
   ],
   "source": [
    "dir(new_status)"
   ],
   "metadata": {
    "collapsed": false,
    "pycharm": {
     "name": "#%%\n"
    }
   }
  },
  {
   "cell_type": "code",
   "execution_count": 33,
   "outputs": [
    {
     "name": "stdout",
     "output_type": "stream",
     "text": [
      "{'pagination_mode': 'id'}\n"
     ]
    }
   ],
   "source": [
    "my_timline = api.home_timeline\n",
    "# dir(my_timline)\n",
    "print(vars(my_timline))\n",
    "\n",
    "# for status in my_timline:\n",
    "#     print(status.text)"
   ],
   "metadata": {
    "collapsed": false,
    "pycharm": {
     "name": "#%%\n"
    }
   }
  },
  {
   "cell_type": "code",
   "execution_count": 37,
   "outputs": [
    {
     "name": "stdout",
     "output_type": "stream",
     "text": [
      "0 Our astronauts know the drill! 🔩\n",
      "After using the troubleshooting methods from the June 16 spacewalk, the pair of as… https://t.co/dQHcH154cX\n",
      "1 @ExplosiveCat @Space_Station They can spacewalk as often as the replenishment of consumables can be accommodated li… https://t.co/KKAziWdk5p\n",
      "2 @PaulKonen It'll be re-attached robotically to the trunk of the Cargo Dragon vehicle and will be jetisoned along wi… https://t.co/efAyCN0USr\n",
      "3 @ONTOPORBOTTOM This depends on the nature of the emergency and the location in relation to the airlock. In a seriou… https://t.co/rw1l083TfK\n",
      "4 @astroandart The change will be minimal! They won't have the same amount of reflectivity as the older arrays. They'… https://t.co/Rgv8TZNDHn\n",
      "5 #ASKNASA Q: Does @Thom_Astro simply put his feet in the foot restraint? Or does he use something else to secure the… https://t.co/QSbl7Xn7gl\n",
      "6 @Thundertom79 Because spacesuits act as mini-spaceships containing a life support system and more, there is a contr… https://t.co/Yg0IDp3Cll\n",
      "7 🌍 Revel in the beauty of our blue planet from above. @Astro_Kimbrough's helmet cam gives stunning views of Earth du… https://t.co/XO5650cxpR\n",
      "8 In addition to today's spacewalk, we launched 40 student experiments on a sounding rocket from @NASA_Wallops this m… https://t.co/CoQ15kqCno\n",
      "9 @raynegoodlove https://t.co/QcN5EoohvL\n",
      "10 😎 How about that view? 255 miles (410 kilometers) above Earth, @Thom_Astro (suit with red stripes) and… https://t.co/fyoAwVp2R1\n",
      "11 @fIowertommy why not https://t.co/QIm41FaSYV\n",
      "12 @thenanaaba 💫 Great question! All astronauts train for spacewalks, but it mostly depends on timing, skillset, and n… https://t.co/3UEO5DoVyx\n",
      "13 @MrHammer82 😎 We got you covered: https://t.co/p3gaHjcaDN\n",
      "\n",
      "Thanks for watching! https://t.co/X2zgeJr4Ap\n",
      "14 ✨ Nothing casual about this Friday.\n",
      "\n",
      " At 7:52 am ET (11:52 UT), @Astro_Kimbrough and @Thom_Astro began today’s spac… https://t.co/TPuzgmcSc6\n",
      "15 Today’s spacewalk is led from the ground by Pooja Jesrani as flight director, @Astro_Jenni as spacewalk communicato… https://t.co/iHLeg6gdBn\n",
      "16 RT @Space_Station: .@NASA TV is live now covering a spacewalk with @Astro_Kimbrough and @Thom_Astro to install a new roll-out solar array t…\n",
      "17 LIVE SPACEWALK: @Astro_Kimbrough and @Thom_Astro work in the vacuum of space to install the second of six new… https://t.co/UQ8SD7Q5Dt\n",
      "18 RT @NASA_Wallops: Another day, another launch! 🚀 \n",
      "\n",
      "A Terrier Improved Orion sounding rocket carrying 40 student experiments is counting dow…\n",
      "19 RT @Thom_astro: No matter how many EVAs you do, it’s NEVER just casual when you venture outside of the @Space_Station. After all, it’s the…\n"
     ]
    }
   ],
   "source": [
    "Column = set()\n",
    "TweetsData = []\n",
    "AllowedTypes =[str,int]\n",
    "other_user = \"nasa\"\n",
    "for i, status in enumerate(tweepy.Cursor(api.user_timeline, screen_name =other_user).items(20)):\n",
    "    print(i, status.text)\n",
    "    status_dict = dict(vars(status))\n",
    "    keys = status_dict.keys()\n",
    "    single_tweet_data = {}\n",
    "    for k in keys:\n",
    "        try:\n",
    "            v_type = type(status_dict[k])\n",
    "        except:\n",
    "            v_type = None\n",
    "        if v_type != None:\n",
    "            if v_type in AllowedTypes:\n",
    "                single_tweet_data[k] = status_dict[k]\n",
    "                Column.add(k)\n",
    "    TweetsData.append(single_tweet_data)\n",
    "header_cols = list(Column)"
   ],
   "metadata": {
    "collapsed": false,
    "pycharm": {
     "name": "#%%\n"
    }
   }
  },
  {
   "cell_type": "code",
   "execution_count": 38,
   "outputs": [
    {
     "name": "stdout",
     "output_type": "stream",
     "text": [
      "[{'id': 1408464803761471488, 'id_str': '1408464803761471488', 'text': 'Our astronauts know the drill! 🔩\\nAfter using the troubleshooting methods from the June 16 spacewalk, the pair of as… https://t.co/dQHcH154cX', 'source': 'Twitter Media Studio - LiveCut', 'source_url': 'https://www.twitter.com/', 'retweet_count': 175, 'favorite_count': 1198, 'lang': 'en'}, {'id': 1408449150916644864, 'id_str': '1408449150916644864', 'text': '@ExplosiveCat @Space_Station They can spacewalk as often as the replenishment of consumables can be accommodated li… https://t.co/KKAziWdk5p', 'source': 'TweetDeck', 'source_url': 'https://about.twitter.com/products/tweetdeck', 'in_reply_to_status_id': 1408439769521135622, 'in_reply_to_status_id_str': '1408439769521135622', 'in_reply_to_user_id': 359419637, 'in_reply_to_user_id_str': '359419637', 'in_reply_to_screen_name': 'ExplosiveCat', 'retweet_count': 0, 'favorite_count': 1, 'lang': 'en'}, {'id': 1408448927897169926, 'id_str': '1408448927897169926', 'text': \"@PaulKonen It'll be re-attached robotically to the trunk of the Cargo Dragon vehicle and will be jetisoned along wi… https://t.co/efAyCN0USr\", 'source': 'TweetDeck', 'source_url': 'https://about.twitter.com/products/tweetdeck', 'in_reply_to_status_id': 1408440133041405962, 'in_reply_to_status_id_str': '1408440133041405962', 'in_reply_to_user_id': 31199335, 'in_reply_to_user_id_str': '31199335', 'in_reply_to_screen_name': 'PaulKonen', 'retweet_count': 0, 'favorite_count': 0, 'lang': 'en'}, {'id': 1408448803309555715, 'id_str': '1408448803309555715', 'text': '@ONTOPORBOTTOM This depends on the nature of the emergency and the location in relation to the airlock. In a seriou… https://t.co/rw1l083TfK', 'source': 'TweetDeck', 'source_url': 'https://about.twitter.com/products/tweetdeck', 'in_reply_to_status_id': 1408429838025859073, 'in_reply_to_status_id_str': '1408429838025859073', 'in_reply_to_user_id': 186705778, 'in_reply_to_user_id_str': '186705778', 'in_reply_to_screen_name': 'ONTOPORBOTTOM', 'retweet_count': 0, 'favorite_count': 0, 'lang': 'en'}, {'id': 1408447508091711489, 'id_str': '1408447508091711489', 'text': \"@astroandart The change will be minimal! They won't have the same amount of reflectivity as the older arrays. They'… https://t.co/Rgv8TZNDHn\", 'source': 'TweetDeck', 'source_url': 'https://about.twitter.com/products/tweetdeck', 'in_reply_to_status_id': 1408434922566660104, 'in_reply_to_status_id_str': '1408434922566660104', 'in_reply_to_user_id': 820688791509893121, 'in_reply_to_user_id_str': '820688791509893121', 'in_reply_to_screen_name': 'astroandart', 'retweet_count': 1, 'favorite_count': 1, 'lang': 'en'}, {'id': 1408442305057640449, 'id_str': '1408442305057640449', 'text': '#ASKNASA Q: Does @Thom_Astro simply put his feet in the foot restraint? Or does he use something else to secure the… https://t.co/QSbl7Xn7gl', 'source': 'Twitter Media Studio - LiveCut', 'source_url': 'https://www.twitter.com/', 'retweet_count': 384, 'favorite_count': 2680, 'lang': 'en'}, {'id': 1408440182420946945, 'id_str': '1408440182420946945', 'text': '@Thundertom79 Because spacesuits act as mini-spaceships containing a life support system and more, there is a contr… https://t.co/Yg0IDp3Cll', 'source': 'TweetDeck', 'source_url': 'https://about.twitter.com/products/tweetdeck', 'in_reply_to_status_id': 1408430354663362562, 'in_reply_to_status_id_str': '1408430354663362562', 'in_reply_to_user_id': 292958154, 'in_reply_to_user_id_str': '292958154', 'in_reply_to_screen_name': 'Thundertom79', 'retweet_count': 0, 'favorite_count': 0, 'lang': 'en'}, {'id': 1408437657416441862, 'id_str': '1408437657416441862', 'text': \"🌍 Revel in the beauty of our blue planet from above. @Astro_Kimbrough's helmet cam gives stunning views of Earth du… https://t.co/XO5650cxpR\", 'source': 'Twitter Media Studio - LiveCut', 'source_url': 'https://www.twitter.com/', 'retweet_count': 535, 'favorite_count': 3196, 'lang': 'en'}, {'id': 1408428426789326849, 'id_str': '1408428426789326849', 'text': \"In addition to today's spacewalk, we launched 40 student experiments on a sounding rocket from @NASA_Wallops this m… https://t.co/CoQ15kqCno\", 'source': 'Twitter Web App', 'source_url': 'https://mobile.twitter.com', 'quoted_status_id': 1408420040739860487, 'quoted_status_id_str': '1408420040739860487', 'retweet_count': 114, 'favorite_count': 1196, 'lang': 'en'}, {'id': 1408415198327840768, 'id_str': '1408415198327840768', 'text': '@raynegoodlove https://t.co/QcN5EoohvL', 'source': 'Twitter Web App', 'source_url': 'https://mobile.twitter.com', 'in_reply_to_status_id': 1408414047477895170, 'in_reply_to_status_id_str': '1408414047477895170', 'in_reply_to_user_id': 438712838, 'in_reply_to_user_id_str': '438712838', 'in_reply_to_screen_name': 'raynegoodlove', 'retweet_count': 1, 'favorite_count': 1, 'lang': 'und'}, {'id': 1408413762512642051, 'id_str': '1408413762512642051', 'text': '😎 How about that view? 255 miles (410 kilometers) above Earth, @Thom_Astro (suit with red stripes) and… https://t.co/fyoAwVp2R1', 'source': 'Twitter Media Studio - LiveCut', 'source_url': 'https://www.twitter.com/', 'retweet_count': 351, 'favorite_count': 2546, 'lang': 'en'}, {'id': 1408406832444477443, 'id_str': '1408406832444477443', 'text': '@fIowertommy why not https://t.co/QIm41FaSYV', 'source': 'Twitter Web App', 'source_url': 'https://mobile.twitter.com', 'in_reply_to_status_id': 1408396084943089667, 'in_reply_to_status_id_str': '1408396084943089667', 'in_reply_to_user_id': 1391323926307901440, 'in_reply_to_user_id_str': '1391323926307901440', 'in_reply_to_screen_name': 'fIowertommy', 'retweet_count': 0, 'favorite_count': 2, 'lang': 'en'}, {'id': 1408404452575436807, 'id_str': '1408404452575436807', 'text': '@thenanaaba 💫 Great question! All astronauts train for spacewalks, but it mostly depends on timing, skillset, and n… https://t.co/3UEO5DoVyx', 'source': 'Twitter Web App', 'source_url': 'https://mobile.twitter.com', 'in_reply_to_status_id': 1408385550764085259, 'in_reply_to_status_id_str': '1408385550764085259', 'in_reply_to_user_id': 459033261, 'in_reply_to_user_id_str': '459033261', 'in_reply_to_screen_name': 'thenanaaba', 'retweet_count': 11, 'favorite_count': 112, 'lang': 'en'}, {'id': 1408404422737211394, 'id_str': '1408404422737211394', 'text': '@MrHammer82 😎 We got you covered: https://t.co/p3gaHjcaDN\\n\\nThanks for watching! https://t.co/X2zgeJr4Ap', 'source': 'Twitter Web App', 'source_url': 'https://mobile.twitter.com', 'in_reply_to_status_id': 1408401084796870657, 'in_reply_to_status_id_str': '1408401084796870657', 'in_reply_to_user_id': 2531864862, 'in_reply_to_user_id_str': '2531864862', 'in_reply_to_screen_name': 'MrHammer82', 'retweet_count': 1, 'favorite_count': 1, 'lang': 'en'}, {'id': 1408395543068524547, 'id_str': '1408395543068524547', 'text': '✨ Nothing casual about this Friday.\\n\\n At 7:52 am ET (11:52 UT), @Astro_Kimbrough and @Thom_Astro began today’s spac… https://t.co/TPuzgmcSc6', 'source': 'Twitter Media Studio - LiveCut', 'source_url': 'https://www.twitter.com/', 'retweet_count': 254, 'favorite_count': 2028, 'lang': 'en'}, {'id': 1408389667884568578, 'id_str': '1408389667884568578', 'text': 'Today’s spacewalk is led from the ground by Pooja Jesrani as flight director, @Astro_Jenni as spacewalk communicato… https://t.co/iHLeg6gdBn', 'source': 'Twitter Media Studio - LiveCut', 'source_url': 'https://www.twitter.com/', 'retweet_count': 162, 'favorite_count': 1450, 'lang': 'en'}, {'id': 1408376609309085697, 'id_str': '1408376609309085697', 'text': 'RT @Space_Station: .@NASA TV is live now covering a spacewalk with @Astro_Kimbrough and @Thom_Astro to install a new roll-out solar array t…', 'source': 'Twitter Web App', 'source_url': 'https://mobile.twitter.com', 'retweet_count': 256, 'favorite_count': 0, 'lang': 'en'}, {'id': 1408372034221051904, 'id_str': '1408372034221051904', 'text': 'LIVE SPACEWALK: @Astro_Kimbrough and @Thom_Astro work in the vacuum of space to install the second of six new… https://t.co/UQ8SD7Q5Dt', 'source': 'Twitter Media Studio', 'source_url': 'https://studio.twitter.com', 'retweet_count': 649, 'favorite_count': 2928, 'lang': 'en'}, {'id': 1408369651566927873, 'id_str': '1408369651566927873', 'text': 'RT @NASA_Wallops: Another day, another launch! 🚀 \\n\\nA Terrier Improved Orion sounding rocket carrying 40 student experiments is counting dow…', 'source': 'Twitter for iPhone', 'source_url': 'http://twitter.com/download/iphone', 'retweet_count': 140, 'favorite_count': 0, 'lang': 'en'}, {'id': 1408359967745314816, 'id_str': '1408359967745314816', 'text': 'RT @Thom_astro: No matter how many EVAs you do, it’s NEVER just casual when you venture outside of the @Space_Station. After all, it’s the…', 'source': 'Twitter for iPhone', 'source_url': 'http://twitter.com/download/iphone', 'retweet_count': 292, 'favorite_count': 0, 'lang': 'en'}]\n"
     ]
    }
   ],
   "source": [
    "print(TweetsData)"
   ],
   "metadata": {
    "collapsed": false,
    "pycharm": {
     "name": "#%%\n"
    }
   }
  },
  {
   "cell_type": "code",
   "execution_count": 44,
   "outputs": [
    {
     "name": "stdout",
     "output_type": "stream",
     "text": [
      "['in_reply_to_status_id_str', 'in_reply_to_user_id_str', 'id_str', 'quoted_status_id_str', 'favorite_count', 'text', 'in_reply_to_user_id', 'id', 'source', 'in_reply_to_screen_name', 'retweet_count', 'lang', 'source_url', 'in_reply_to_status_id', 'quoted_status_id']\n",
      "{\"in_reply_to_status_id_str\":{\"0\":null,\"1\":\"1408439769521135622\",\"2\":\"1408440133041405962\",\"3\":\"1408429838025859073\",\"4\":\"1408434922566660104\",\"5\":null,\"6\":\"1408430354663362562\",\"7\":null,\"8\":null,\"9\":\"1408414047477895170\",\"10\":null,\"11\":\"1408396084943089667\",\"12\":\"1408385550764085259\",\"13\":\"1408401084796870657\",\"14\":null,\"15\":null,\"16\":null,\"17\":null,\"18\":null,\"19\":null},\"in_reply_to_user_id_str\":{\"0\":null,\"1\":\"359419637\",\"2\":\"31199335\",\"3\":\"186705778\",\"4\":\"820688791509893121\",\"5\":null,\"6\":\"292958154\",\"7\":null,\"8\":null,\"9\":\"438712838\",\"10\":null,\"11\":\"1391323926307901440\",\"12\":\"459033261\",\"13\":\"2531864862\",\"14\":null,\"15\":null,\"16\":null,\"17\":null,\"18\":null,\"19\":null},\"id_str\":{\"0\":\"1408464803761471488\",\"1\":\"1408449150916644864\",\"2\":\"1408448927897169926\",\"3\":\"1408448803309555715\",\"4\":\"1408447508091711489\",\"5\":\"1408442305057640449\",\"6\":\"1408440182420946945\",\"7\":\"1408437657416441862\",\"8\":\"1408428426789326849\",\"9\":\"1408415198327840768\",\"10\":\"1408413762512642051\",\"11\":\"1408406832444477443\",\"12\":\"1408404452575436807\",\"13\":\"1408404422737211394\",\"14\":\"1408395543068524547\",\"15\":\"1408389667884568578\",\"16\":\"1408376609309085697\",\"17\":\"1408372034221051904\",\"18\":\"1408369651566927873\",\"19\":\"1408359967745314816\"},\"quoted_status_id_str\":{\"0\":null,\"1\":null,\"2\":null,\"3\":null,\"4\":null,\"5\":null,\"6\":null,\"7\":null,\"8\":\"1408420040739860487\",\"9\":null,\"10\":null,\"11\":null,\"12\":null,\"13\":null,\"14\":null,\"15\":null,\"16\":null,\"17\":null,\"18\":null,\"19\":null},\"favorite_count\":{\"0\":1198,\"1\":1,\"2\":0,\"3\":0,\"4\":1,\"5\":2680,\"6\":0,\"7\":3196,\"8\":1196,\"9\":1,\"10\":2546,\"11\":2,\"12\":112,\"13\":1,\"14\":2028,\"15\":1450,\"16\":0,\"17\":2928,\"18\":0,\"19\":0},\"text\":{\"0\":\"Our astronauts know the drill! \\ud83d\\udd29\\nAfter using the troubleshooting methods from the June 16 spacewalk, the pair of as\\u2026 https:\\/\\/t.co\\/dQHcH154cX\",\"1\":\"@ExplosiveCat @Space_Station They can spacewalk as often as the replenishment of consumables can be accommodated li\\u2026 https:\\/\\/t.co\\/KKAziWdk5p\",\"2\":\"@PaulKonen It'll be re-attached robotically to the trunk of the Cargo Dragon vehicle and will be jetisoned along wi\\u2026 https:\\/\\/t.co\\/efAyCN0USr\",\"3\":\"@ONTOPORBOTTOM This depends on the nature of the emergency and the location in relation to the airlock. In a seriou\\u2026 https:\\/\\/t.co\\/rw1l083TfK\",\"4\":\"@astroandart The change will be minimal! They won't have the same amount of reflectivity as the older arrays. They'\\u2026 https:\\/\\/t.co\\/Rgv8TZNDHn\",\"5\":\"#ASKNASA Q: Does @Thom_Astro simply put his feet in the foot restraint? Or does he use something else to secure the\\u2026 https:\\/\\/t.co\\/QSbl7Xn7gl\",\"6\":\"@Thundertom79 Because spacesuits act as mini-spaceships containing a life support system and more, there is a contr\\u2026 https:\\/\\/t.co\\/Yg0IDp3Cll\",\"7\":\"\\ud83c\\udf0d Revel in the beauty of our blue planet from above. @Astro_Kimbrough's helmet cam gives stunning views of Earth du\\u2026 https:\\/\\/t.co\\/XO5650cxpR\",\"8\":\"In addition to today's spacewalk, we launched 40 student experiments on a sounding rocket from @NASA_Wallops this m\\u2026 https:\\/\\/t.co\\/CoQ15kqCno\",\"9\":\"@raynegoodlove https:\\/\\/t.co\\/QcN5EoohvL\",\"10\":\"\\ud83d\\ude0e How about that view? 255 miles (410 kilometers) above Earth, @Thom_Astro (suit with red stripes) and\\u2026 https:\\/\\/t.co\\/fyoAwVp2R1\",\"11\":\"@fIowertommy why not https:\\/\\/t.co\\/QIm41FaSYV\",\"12\":\"@thenanaaba \\ud83d\\udcab Great question! All astronauts train for spacewalks, but it mostly depends on timing, skillset, and n\\u2026 https:\\/\\/t.co\\/3UEO5DoVyx\",\"13\":\"@MrHammer82 \\ud83d\\ude0e We got you covered: https:\\/\\/t.co\\/p3gaHjcaDN\\n\\nThanks for watching! https:\\/\\/t.co\\/X2zgeJr4Ap\",\"14\":\"\\u2728 Nothing casual about this Friday.\\n\\n At 7:52 am ET (11:52 UT), @Astro_Kimbrough and @Thom_Astro began today\\u2019s spac\\u2026 https:\\/\\/t.co\\/TPuzgmcSc6\",\"15\":\"Today\\u2019s spacewalk is led from the ground by Pooja Jesrani as flight director, @Astro_Jenni as spacewalk communicato\\u2026 https:\\/\\/t.co\\/iHLeg6gdBn\",\"16\":\"RT @Space_Station: .@NASA TV is live now covering a spacewalk with @Astro_Kimbrough and @Thom_Astro to install a new roll-out solar array t\\u2026\",\"17\":\"LIVE SPACEWALK: @Astro_Kimbrough and @Thom_Astro work in the vacuum of space to install the second of six new\\u2026 https:\\/\\/t.co\\/UQ8SD7Q5Dt\",\"18\":\"RT @NASA_Wallops: Another day, another launch! \\ud83d\\ude80 \\n\\nA Terrier Improved Orion sounding rocket carrying 40 student experiments is counting dow\\u2026\",\"19\":\"RT @Thom_astro: No matter how many EVAs you do, it\\u2019s NEVER just casual when you venture outside of the @Space_Station. After all, it\\u2019s the\\u2026\"},\"in_reply_to_user_id\":{\"0\":null,\"1\":359419637.0,\"2\":31199335.0,\"3\":186705778.0,\"4\":8.206887915e+17,\"5\":null,\"6\":292958154.0,\"7\":null,\"8\":null,\"9\":438712838.0,\"10\":null,\"11\":1.391323926e+18,\"12\":459033261.0,\"13\":2531864862.0,\"14\":null,\"15\":null,\"16\":null,\"17\":null,\"18\":null,\"19\":null},\"id\":{\"0\":1408464803761471488,\"1\":1408449150916644864,\"2\":1408448927897169926,\"3\":1408448803309555715,\"4\":1408447508091711489,\"5\":1408442305057640449,\"6\":1408440182420946945,\"7\":1408437657416441862,\"8\":1408428426789326849,\"9\":1408415198327840768,\"10\":1408413762512642051,\"11\":1408406832444477443,\"12\":1408404452575436807,\"13\":1408404422737211394,\"14\":1408395543068524547,\"15\":1408389667884568578,\"16\":1408376609309085697,\"17\":1408372034221051904,\"18\":1408369651566927873,\"19\":1408359967745314816},\"source\":{\"0\":\"Twitter Media Studio - LiveCut\",\"1\":\"TweetDeck\",\"2\":\"TweetDeck\",\"3\":\"TweetDeck\",\"4\":\"TweetDeck\",\"5\":\"Twitter Media Studio - LiveCut\",\"6\":\"TweetDeck\",\"7\":\"Twitter Media Studio - LiveCut\",\"8\":\"Twitter Web App\",\"9\":\"Twitter Web App\",\"10\":\"Twitter Media Studio - LiveCut\",\"11\":\"Twitter Web App\",\"12\":\"Twitter Web App\",\"13\":\"Twitter Web App\",\"14\":\"Twitter Media Studio - LiveCut\",\"15\":\"Twitter Media Studio - LiveCut\",\"16\":\"Twitter Web App\",\"17\":\"Twitter Media Studio\",\"18\":\"Twitter for iPhone\",\"19\":\"Twitter for iPhone\"},\"in_reply_to_screen_name\":{\"0\":null,\"1\":\"ExplosiveCat\",\"2\":\"PaulKonen\",\"3\":\"ONTOPORBOTTOM\",\"4\":\"astroandart\",\"5\":null,\"6\":\"Thundertom79\",\"7\":null,\"8\":null,\"9\":\"raynegoodlove\",\"10\":null,\"11\":\"fIowertommy\",\"12\":\"thenanaaba\",\"13\":\"MrHammer82\",\"14\":null,\"15\":null,\"16\":null,\"17\":null,\"18\":null,\"19\":null},\"retweet_count\":{\"0\":175,\"1\":0,\"2\":0,\"3\":0,\"4\":1,\"5\":384,\"6\":0,\"7\":535,\"8\":114,\"9\":1,\"10\":351,\"11\":0,\"12\":11,\"13\":1,\"14\":254,\"15\":162,\"16\":256,\"17\":649,\"18\":140,\"19\":292},\"lang\":{\"0\":\"en\",\"1\":\"en\",\"2\":\"en\",\"3\":\"en\",\"4\":\"en\",\"5\":\"en\",\"6\":\"en\",\"7\":\"en\",\"8\":\"en\",\"9\":\"und\",\"10\":\"en\",\"11\":\"en\",\"12\":\"en\",\"13\":\"en\",\"14\":\"en\",\"15\":\"en\",\"16\":\"en\",\"17\":\"en\",\"18\":\"en\",\"19\":\"en\"},\"source_url\":{\"0\":\"https:\\/\\/www.twitter.com\\/\",\"1\":\"https:\\/\\/about.twitter.com\\/products\\/tweetdeck\",\"2\":\"https:\\/\\/about.twitter.com\\/products\\/tweetdeck\",\"3\":\"https:\\/\\/about.twitter.com\\/products\\/tweetdeck\",\"4\":\"https:\\/\\/about.twitter.com\\/products\\/tweetdeck\",\"5\":\"https:\\/\\/www.twitter.com\\/\",\"6\":\"https:\\/\\/about.twitter.com\\/products\\/tweetdeck\",\"7\":\"https:\\/\\/www.twitter.com\\/\",\"8\":\"https:\\/\\/mobile.twitter.com\",\"9\":\"https:\\/\\/mobile.twitter.com\",\"10\":\"https:\\/\\/www.twitter.com\\/\",\"11\":\"https:\\/\\/mobile.twitter.com\",\"12\":\"https:\\/\\/mobile.twitter.com\",\"13\":\"https:\\/\\/mobile.twitter.com\",\"14\":\"https:\\/\\/www.twitter.com\\/\",\"15\":\"https:\\/\\/www.twitter.com\\/\",\"16\":\"https:\\/\\/mobile.twitter.com\",\"17\":\"https:\\/\\/studio.twitter.com\",\"18\":\"http:\\/\\/twitter.com\\/download\\/iphone\",\"19\":\"http:\\/\\/twitter.com\\/download\\/iphone\"},\"in_reply_to_status_id\":{\"0\":null,\"1\":1.40843977e+18,\"2\":1.408440133e+18,\"3\":1.408429838e+18,\"4\":1.408434923e+18,\"5\":null,\"6\":1.408430355e+18,\"7\":null,\"8\":null,\"9\":1.408414047e+18,\"10\":null,\"11\":1.408396085e+18,\"12\":1.408385551e+18,\"13\":1.408401085e+18,\"14\":null,\"15\":null,\"16\":null,\"17\":null,\"18\":null,\"19\":null},\"quoted_status_id\":{\"0\":null,\"1\":null,\"2\":null,\"3\":null,\"4\":null,\"5\":null,\"6\":null,\"7\":null,\"8\":1.408420041e+18,\"9\":null,\"10\":null,\"11\":null,\"12\":null,\"13\":null,\"14\":null,\"15\":null,\"16\":null,\"17\":null,\"18\":null,\"19\":null}}\n"
     ]
    }
   ],
   "source": [
    "df = pd.DataFrame(TweetsData,columns=header_cols)\n",
    "df.head()\n",
    "json = df.to_json()\n",
    "print(header_cols)\n",
    "# jsonify(json)\n",
    "print(json)"
   ],
   "metadata": {
    "collapsed": false,
    "pycharm": {
     "name": "#%%\n"
    }
   }
  }
 ],
 "metadata": {
  "kernelspec": {
   "display_name": "Python 3",
   "language": "python",
   "name": "python3"
  },
  "language_info": {
   "codemirror_mode": {
    "name": "ipython",
    "version": 2
   },
   "file_extension": ".py",
   "mimetype": "text/x-python",
   "name": "python",
   "nbconvert_exporter": "python",
   "pygments_lexer": "ipython2",
   "version": "2.7.6"
  }
 },
 "nbformat": 4,
 "nbformat_minor": 0
}