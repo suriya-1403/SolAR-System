{
 "cells": [
  {
   "cell_type": "markdown",
   "source": [
    "# Package Importing"
   ],
   "metadata": {
    "collapsed": false,
    "pycharm": {
     "name": "#%% md\n"
    }
   }
  },
  {
   "cell_type": "code",
   "execution_count": 1,
   "metadata": {
    "collapsed": true
   },
   "outputs": [],
   "source": [
    "import tweepy\n",
    "import webbrowser\n",
    "import pandas as pd\n",
    "import time"
   ]
  },
  {
   "cell_type": "code",
   "execution_count": 2,
   "outputs": [],
   "source": [
    "from flask import jsonify\n",
    "\n",
    "ConsumerKey = \"ZZwoqHrr2nQOSPZljQgjf0gZp\"\n",
    "ConsumerSecretKey =\"Ilb6u3qOdtZf6QaNqh1dbnq5jHu4nKqas61lOQ7GgZsiSfXdxu\""
   ],
   "metadata": {
    "collapsed": false,
    "pycharm": {
     "name": "#%%\n"
    }
   }
  },
  {
   "cell_type": "code",
   "execution_count": 3,
   "outputs": [],
   "source": [
    "callback_uri ='oob'"
   ],
   "metadata": {
    "collapsed": false,
    "pycharm": {
     "name": "#%%\n"
    }
   }
  },
  {
   "cell_type": "code",
   "execution_count": 4,
   "outputs": [
    {
     "name": "stdout",
     "output_type": "stream",
     "text": [
      "https://api.twitter.com/oauth/authorize?oauth_token=3W7eYgAAAAABRCZKAAABelanVbg\n"
     ]
    }
   ],
   "source": [
    "auth = tweepy.OAuthHandler(ConsumerKey,ConsumerSecretKey,callback_uri)\n",
    "redirect_url = auth.get_authorization_url()\n",
    "print(redirect_url)\n"
   ],
   "metadata": {
    "collapsed": false,
    "pycharm": {
     "name": "#%%\n"
    }
   }
  },
  {
   "cell_type": "code",
   "execution_count": 5,
   "outputs": [
    {
     "data": {
      "text/plain": "True"
     },
     "execution_count": 5,
     "metadata": {},
     "output_type": "execute_result"
    }
   ],
   "source": [
    "webbrowser.open(redirect_url)"
   ],
   "metadata": {
    "collapsed": false,
    "pycharm": {
     "name": "#%%\n"
    }
   }
  },
  {
   "cell_type": "code",
   "execution_count": 6,
   "outputs": [],
   "source": [
    "user_pint_input = input(\"Whats the Pin value? \")"
   ],
   "metadata": {
    "collapsed": false,
    "pycharm": {
     "name": "#%%\n"
    }
   }
  },
  {
   "cell_type": "code",
   "execution_count": 7,
   "outputs": [
    {
     "name": "stdout",
     "output_type": "stream",
     "text": [
      "0096664\n"
     ]
    }
   ],
   "source": [
    "print(user_pint_input)\n"
   ],
   "metadata": {
    "collapsed": false,
    "pycharm": {
     "name": "#%%\n"
    }
   }
  },
  {
   "cell_type": "code",
   "execution_count": 8,
   "outputs": [
    {
     "data": {
      "text/plain": "('790708840303964160-wEBtY5ME2pkdylOJ46ISc7kEPa9j82U',\n 'DGIJS4bLAnk3ihds4uUdc4qaq4nUTWYwGI5TFPuaiD4uW')"
     },
     "execution_count": 8,
     "metadata": {},
     "output_type": "execute_result"
    }
   ],
   "source": [
    "auth.get_access_token(user_pint_input)"
   ],
   "metadata": {
    "collapsed": false,
    "pycharm": {
     "name": "#%%\n"
    }
   }
  },
  {
   "cell_type": "code",
   "execution_count": 9,
   "outputs": [
    {
     "name": "stdout",
     "output_type": "stream",
     "text": [
      "790708840303964160-wEBtY5ME2pkdylOJ46ISc7kEPa9j82U DGIJS4bLAnk3ihds4uUdc4qaq4nUTWYwGI5TFPuaiD4uW\n"
     ]
    }
   ],
   "source": [
    "print(auth.access_token,auth.access_token_secret)"
   ],
   "metadata": {
    "collapsed": false,
    "pycharm": {
     "name": "#%%\n"
    }
   }
  },
  {
   "cell_type": "code",
   "execution_count": 10,
   "outputs": [],
   "source": [
    "api = tweepy.API(auth)"
   ],
   "metadata": {
    "collapsed": false,
    "pycharm": {
     "name": "#%%\n"
    }
   }
  },
  {
   "cell_type": "code",
   "execution_count": 11,
   "outputs": [
    {
     "name": "stdout",
     "output_type": "stream",
     "text": [
      "Suriya_1403\n"
     ]
    }
   ],
   "source": [
    "me = api.me()\n",
    "print(me.screen_name)"
   ],
   "metadata": {
    "collapsed": false,
    "pycharm": {
     "name": "#%%\n"
    }
   }
  },
  {
   "cell_type": "code",
   "execution_count": 12,
   "outputs": [
    {
     "data": {
      "text/plain": "Status(_api=<tweepy.api.API object at 0x131edfac0>, _json={'created_at': 'Tue Jun 29 07:24:16 +0000 2021', 'id': 1409774703158333444, 'id_str': '1409774703158333444', 'text': 'Hello World from the Tweepy!!', 'truncated': False, 'entities': {'hashtags': [], 'symbols': [], 'user_mentions': [], 'urls': []}, 'source': '<a href=\"https://help.twitter.com/en/using-twitter/how-to-tweet#source-labels\" rel=\"nofollow\">SolAR-System</a>', 'in_reply_to_status_id': None, 'in_reply_to_status_id_str': None, 'in_reply_to_user_id': None, 'in_reply_to_user_id_str': None, 'in_reply_to_screen_name': None, 'user': {'id': 790708840303964160, 'id_str': '790708840303964160', 'name': 'Suriya Krishnan', 'screen_name': 'Suriya_1403', 'location': 'Chennai, India', 'description': '', 'url': None, 'entities': {'description': {'urls': []}}, 'protected': True, 'followers_count': 14, 'friends_count': 103, 'listed_count': 0, 'created_at': 'Tue Oct 25 00:17:33 +0000 2016', 'favourites_count': 92, 'utc_offset': None, 'time_zone': None, 'geo_enabled': False, 'verified': False, 'statuses_count': 2, 'lang': None, 'contributors_enabled': False, 'is_translator': False, 'is_translation_enabled': False, 'profile_background_color': 'F5F8FA', 'profile_background_image_url': None, 'profile_background_image_url_https': None, 'profile_background_tile': False, 'profile_image_url': 'http://pbs.twimg.com/profile_images/1402674160912855048/OnDdkGag_normal.jpg', 'profile_image_url_https': 'https://pbs.twimg.com/profile_images/1402674160912855048/OnDdkGag_normal.jpg', 'profile_link_color': '1DA1F2', 'profile_sidebar_border_color': 'C0DEED', 'profile_sidebar_fill_color': 'DDEEF6', 'profile_text_color': '333333', 'profile_use_background_image': True, 'has_extended_profile': True, 'default_profile': True, 'default_profile_image': False, 'following': False, 'follow_request_sent': False, 'notifications': False, 'translator_type': 'none', 'withheld_in_countries': []}, 'geo': None, 'coordinates': None, 'place': None, 'contributors': None, 'is_quote_status': False, 'retweet_count': 0, 'favorite_count': 0, 'favorited': False, 'retweeted': False, 'lang': 'en'}, created_at=datetime.datetime(2021, 6, 29, 7, 24, 16), id=1409774703158333444, id_str='1409774703158333444', text='Hello World from the Tweepy!!', truncated=False, entities={'hashtags': [], 'symbols': [], 'user_mentions': [], 'urls': []}, source='SolAR-System', source_url='https://help.twitter.com/en/using-twitter/how-to-tweet#source-labels', in_reply_to_status_id=None, in_reply_to_status_id_str=None, in_reply_to_user_id=None, in_reply_to_user_id_str=None, in_reply_to_screen_name=None, author=User(_api=<tweepy.api.API object at 0x131edfac0>, _json={'id': 790708840303964160, 'id_str': '790708840303964160', 'name': 'Suriya Krishnan', 'screen_name': 'Suriya_1403', 'location': 'Chennai, India', 'description': '', 'url': None, 'entities': {'description': {'urls': []}}, 'protected': True, 'followers_count': 14, 'friends_count': 103, 'listed_count': 0, 'created_at': 'Tue Oct 25 00:17:33 +0000 2016', 'favourites_count': 92, 'utc_offset': None, 'time_zone': None, 'geo_enabled': False, 'verified': False, 'statuses_count': 2, 'lang': None, 'contributors_enabled': False, 'is_translator': False, 'is_translation_enabled': False, 'profile_background_color': 'F5F8FA', 'profile_background_image_url': None, 'profile_background_image_url_https': None, 'profile_background_tile': False, 'profile_image_url': 'http://pbs.twimg.com/profile_images/1402674160912855048/OnDdkGag_normal.jpg', 'profile_image_url_https': 'https://pbs.twimg.com/profile_images/1402674160912855048/OnDdkGag_normal.jpg', 'profile_link_color': '1DA1F2', 'profile_sidebar_border_color': 'C0DEED', 'profile_sidebar_fill_color': 'DDEEF6', 'profile_text_color': '333333', 'profile_use_background_image': True, 'has_extended_profile': True, 'default_profile': True, 'default_profile_image': False, 'following': False, 'follow_request_sent': False, 'notifications': False, 'translator_type': 'none', 'withheld_in_countries': []}, id=790708840303964160, id_str='790708840303964160', name='Suriya Krishnan', screen_name='Suriya_1403', location='Chennai, India', description='', url=None, entities={'description': {'urls': []}}, protected=True, followers_count=14, friends_count=103, listed_count=0, created_at=datetime.datetime(2016, 10, 25, 0, 17, 33), favourites_count=92, utc_offset=None, time_zone=None, geo_enabled=False, verified=False, statuses_count=2, lang=None, contributors_enabled=False, is_translator=False, is_translation_enabled=False, profile_background_color='F5F8FA', profile_background_image_url=None, profile_background_image_url_https=None, profile_background_tile=False, profile_image_url='http://pbs.twimg.com/profile_images/1402674160912855048/OnDdkGag_normal.jpg', profile_image_url_https='https://pbs.twimg.com/profile_images/1402674160912855048/OnDdkGag_normal.jpg', profile_link_color='1DA1F2', profile_sidebar_border_color='C0DEED', profile_sidebar_fill_color='DDEEF6', profile_text_color='333333', profile_use_background_image=True, has_extended_profile=True, default_profile=True, default_profile_image=False, following=False, follow_request_sent=False, notifications=False, translator_type='none', withheld_in_countries=[]), user=User(_api=<tweepy.api.API object at 0x131edfac0>, _json={'id': 790708840303964160, 'id_str': '790708840303964160', 'name': 'Suriya Krishnan', 'screen_name': 'Suriya_1403', 'location': 'Chennai, India', 'description': '', 'url': None, 'entities': {'description': {'urls': []}}, 'protected': True, 'followers_count': 14, 'friends_count': 103, 'listed_count': 0, 'created_at': 'Tue Oct 25 00:17:33 +0000 2016', 'favourites_count': 92, 'utc_offset': None, 'time_zone': None, 'geo_enabled': False, 'verified': False, 'statuses_count': 2, 'lang': None, 'contributors_enabled': False, 'is_translator': False, 'is_translation_enabled': False, 'profile_background_color': 'F5F8FA', 'profile_background_image_url': None, 'profile_background_image_url_https': None, 'profile_background_tile': False, 'profile_image_url': 'http://pbs.twimg.com/profile_images/1402674160912855048/OnDdkGag_normal.jpg', 'profile_image_url_https': 'https://pbs.twimg.com/profile_images/1402674160912855048/OnDdkGag_normal.jpg', 'profile_link_color': '1DA1F2', 'profile_sidebar_border_color': 'C0DEED', 'profile_sidebar_fill_color': 'DDEEF6', 'profile_text_color': '333333', 'profile_use_background_image': True, 'has_extended_profile': True, 'default_profile': True, 'default_profile_image': False, 'following': False, 'follow_request_sent': False, 'notifications': False, 'translator_type': 'none', 'withheld_in_countries': []}, id=790708840303964160, id_str='790708840303964160', name='Suriya Krishnan', screen_name='Suriya_1403', location='Chennai, India', description='', url=None, entities={'description': {'urls': []}}, protected=True, followers_count=14, friends_count=103, listed_count=0, created_at=datetime.datetime(2016, 10, 25, 0, 17, 33), favourites_count=92, utc_offset=None, time_zone=None, geo_enabled=False, verified=False, statuses_count=2, lang=None, contributors_enabled=False, is_translator=False, is_translation_enabled=False, profile_background_color='F5F8FA', profile_background_image_url=None, profile_background_image_url_https=None, profile_background_tile=False, profile_image_url='http://pbs.twimg.com/profile_images/1402674160912855048/OnDdkGag_normal.jpg', profile_image_url_https='https://pbs.twimg.com/profile_images/1402674160912855048/OnDdkGag_normal.jpg', profile_link_color='1DA1F2', profile_sidebar_border_color='C0DEED', profile_sidebar_fill_color='DDEEF6', profile_text_color='333333', profile_use_background_image=True, has_extended_profile=True, default_profile=True, default_profile_image=False, following=False, follow_request_sent=False, notifications=False, translator_type='none', withheld_in_countries=[]), geo=None, coordinates=None, place=None, contributors=None, is_quote_status=False, retweet_count=0, favorite_count=0, favorited=False, retweeted=False, lang='en')"
     },
     "execution_count": 12,
     "metadata": {},
     "output_type": "execute_result"
    }
   ],
   "source": [
    "new_status = api.update_status(\"Hello World from the Tweepy!!\")\n",
    "new_status.destroy()"
   ],
   "metadata": {
    "collapsed": false,
    "pycharm": {
     "name": "#%%\n"
    }
   }
  },
  {
   "cell_type": "code",
   "execution_count": 13,
   "outputs": [
    {
     "data": {
      "text/plain": "['__class__',\n '__delattr__',\n '__dict__',\n '__dir__',\n '__doc__',\n '__eq__',\n '__format__',\n '__ge__',\n '__getattribute__',\n '__getstate__',\n '__gt__',\n '__hash__',\n '__init__',\n '__init_subclass__',\n '__le__',\n '__lt__',\n '__module__',\n '__ne__',\n '__new__',\n '__reduce__',\n '__reduce_ex__',\n '__repr__',\n '__setattr__',\n '__sizeof__',\n '__str__',\n '__subclasshook__',\n '__weakref__',\n '_api',\n '_json',\n 'author',\n 'contributors',\n 'coordinates',\n 'created_at',\n 'destroy',\n 'entities',\n 'favorite',\n 'favorite_count',\n 'favorited',\n 'geo',\n 'id',\n 'id_str',\n 'in_reply_to_screen_name',\n 'in_reply_to_status_id',\n 'in_reply_to_status_id_str',\n 'in_reply_to_user_id',\n 'in_reply_to_user_id_str',\n 'is_quote_status',\n 'lang',\n 'parse',\n 'parse_list',\n 'place',\n 'retweet',\n 'retweet_count',\n 'retweeted',\n 'retweets',\n 'source',\n 'source_url',\n 'text',\n 'truncated',\n 'user']"
     },
     "execution_count": 13,
     "metadata": {},
     "output_type": "execute_result"
    }
   ],
   "source": [
    "dir(new_status)"
   ],
   "metadata": {
    "collapsed": false,
    "pycharm": {
     "name": "#%%\n"
    }
   }
  },
  {
   "cell_type": "code",
   "execution_count": 14,
   "outputs": [
    {
     "name": "stdout",
     "output_type": "stream",
     "text": [
      "{'pagination_mode': 'id'}\n"
     ]
    }
   ],
   "source": [
    "my_timline = api.home_timeline\n",
    "# dir(my_timline)\n",
    "print(vars(my_timline))\n",
    "\n",
    "# for status in my_timline:\n",
    "#     print(status.text)"
   ],
   "metadata": {
    "collapsed": false,
    "pycharm": {
     "name": "#%%\n"
    }
   }
  },
  {
   "cell_type": "code",
   "execution_count": 15,
   "outputs": [
    {
     "name": "stdout",
     "output_type": "stream",
     "text": [
      "0 Tomorrow, @NorthropGrumman's Cygnus cargo spacecraft, named the S.S. Katherine Johnson after the NASA mathematician… https://t.co/82B4VeuHcN\n",
      "1 @pasmith the space station crew members operate on Greenwich Mean Time\n",
      "2 RT @Thom_astro: The International Space Station at night:\n",
      "🟢 lights in the @NASA Destiny lab\n",
      "🟡 lights in Node-2\n",
      "🌍 reflections on the ceiling…\n",
      "3 @davesalis When is liftoff? Looks great! 🚀\n",
      "4 @samrath_nagpal 🙌🚀 We’ll be waiting for him!\n",
      "5 RT @NASAArtemis: The FINAL bracket for the Name the #Artemis Moonikin Challenge is live:\n",
      "\n",
      "Delos: Nostalgic, romantic. The island where Apol…\n",
      "6 Check out the whereabouts of our @NASAPersevere rover on Mars with this interactive map. Track its latest location… https://t.co/vsGZk2ZJVc\n",
      "7 Are you a musician? Does exploration &amp; discovery inspire you?\n",
      "\n",
      "🥁🎶 It's time to break out those instruments!\n",
      "\n",
      "We’d l… https://t.co/QBmBVjtyZp\n",
      "8 Spacewalks. Launches. Science. Wows.\n",
      "\n",
      "We have it all in one place. Subscribe to our NASA @YouTube channel to explor… https://t.co/xWEUA8bFWk\n",
      "9 RT @NASA_Johnson: Citizen science is just that, science by citizens! The Student Payload Opportunity with Citizen Science challenges studen…\n",
      "10 ICYMI: We recently swore in Pam Melroy as our new deputy administrator, and the U.S.-European Sentinel-6 Michael Fr… https://t.co/UfspZPZNAZ\n",
      "11 📸🤖 Our @NASAPersevere rover captured a historic selfie with our Ingenuity #MarsHelicopter on April 6, 2021. But how… https://t.co/yqeK5LLQKA\n",
      "12 RT @Dr_ThomasZ: Are we alone in the universe? So far, the only life we know of is right here on Earth. But here at NASA, we’re looking. Lea…\n",
      "13 This week aboard the @Space_Station: \n",
      "\n",
      "⚡️@Astro_Kimbrough &amp; @Thom_Astro complete two spacewalks \n",
      "🔍 @Aki_Hoshide exp… https://t.co/Al0uzDhgK6\n",
      "14 RT @nasahqphoto: The International Space Station is seen in silhouette as it transits the Sun at roughly five miles per second while \n",
      "@NASA…\n",
      "15 @Subhajit9997 What's awesome is this shot! 🤩Thank you for sharing. We're glad you were able to capture the last sup… https://t.co/ydkuqIvS9h\n",
      "16 Job well done, @Astro_Kimbrough and @Thom_Astro! 👏👏 The astronaut duo are safely inside the @Space_Station, marking… https://t.co/q3SMBG4afn\n",
      "17 RT @Space_Station: The new 60-foot-long roll-out solar array has been fully deployed successfully! #AskNASA | https://t.co/lCvrNKHbhT https…\n",
      "18 Our astronauts know the drill! 🔩\n",
      "After using the troubleshooting methods from the June 16 spacewalk, the pair of as… https://t.co/dQHcH154cX\n",
      "19 @ExplosiveCat @Space_Station They can spacewalk as often as the replenishment of consumables can be accommodated li… https://t.co/KKAziWdk5p\n"
     ]
    }
   ],
   "source": [
    "Column = set()\n",
    "TweetsData = []\n",
    "AllowedTypes =[str,int]\n",
    "other_user = \"nasa\"\n",
    "for i, status in enumerate(tweepy.Cursor(api.user_timeline, screen_name =other_user).items(20)):\n",
    "    print(i, status.text)\n",
    "    status_dict = dict(vars(status))\n",
    "    keys = status_dict.keys()\n",
    "    single_tweet_data = {}\n",
    "    for k in keys:\n",
    "        try:\n",
    "            v_type = type(status_dict[k])\n",
    "        except:\n",
    "            v_type = None\n",
    "        if v_type != None:\n",
    "            if v_type in AllowedTypes:\n",
    "                single_tweet_data[k] = status_dict[k]\n",
    "                Column.add(k)\n",
    "    TweetsData.append(single_tweet_data)\n",
    "header_cols = list(Column)"
   ],
   "metadata": {
    "collapsed": false,
    "pycharm": {
     "name": "#%%\n"
    }
   }
  },
  {
   "cell_type": "code",
   "execution_count": 16,
   "outputs": [
    {
     "name": "stdout",
     "output_type": "stream",
     "text": [
      "[{'id': 1409643778290315267, 'id_str': '1409643778290315267', 'text': \"Tomorrow, @NorthropGrumman's Cygnus cargo spacecraft, named the S.S. Katherine Johnson after the NASA mathematician… https://t.co/82B4VeuHcN\", 'source': 'Sprinklr', 'source_url': 'https://www.sprinklr.com', 'retweet_count': 384, 'favorite_count': 3257, 'lang': 'en'}, {'id': 1409631519572828164, 'id_str': '1409631519572828164', 'text': '@pasmith the space station crew members operate on Greenwich Mean Time', 'source': 'Twitter for iPhone', 'source_url': 'http://twitter.com/download/iphone', 'in_reply_to_status_id': 1409629338241228804, 'in_reply_to_status_id_str': '1409629338241228804', 'in_reply_to_user_id': 8104032, 'in_reply_to_user_id_str': '8104032', 'in_reply_to_screen_name': 'pasmith', 'retweet_count': 0, 'favorite_count': 6, 'lang': 'en'}, {'id': 1409587260853415936, 'id_str': '1409587260853415936', 'text': 'RT @Thom_astro: The International Space Station at night:\\n🟢 lights in the @NASA Destiny lab\\n🟡 lights in Node-2\\n🌍 reflections on the ceiling…', 'source': 'Twitter Web App', 'source_url': 'https://mobile.twitter.com', 'retweet_count': 392, 'favorite_count': 0, 'lang': 'en'}, {'id': 1409580496020029449, 'id_str': '1409580496020029449', 'text': '@davesalis When is liftoff? Looks great! 🚀', 'source': 'Twitter Web App', 'source_url': 'https://mobile.twitter.com', 'in_reply_to_status_id': 1409399357196099585, 'in_reply_to_status_id_str': '1409399357196099585', 'in_reply_to_user_id': 292518517, 'in_reply_to_user_id_str': '292518517', 'in_reply_to_screen_name': 'davesalis', 'retweet_count': 1, 'favorite_count': 3, 'lang': 'en'}, {'id': 1409563099481448454, 'id_str': '1409563099481448454', 'text': '@samrath_nagpal 🙌🚀 We’ll be waiting for him!', 'source': 'Twitter for iPhone', 'source_url': 'http://twitter.com/download/iphone', 'in_reply_to_status_id': 1409543665265958916, 'in_reply_to_status_id_str': '1409543665265958916', 'in_reply_to_user_id': 862905028926779392, 'in_reply_to_user_id_str': '862905028926779392', 'in_reply_to_screen_name': 'samrath_nagpal', 'retweet_count': 1, 'favorite_count': 0, 'lang': 'en'}, {'id': 1409532126798790656, 'id_str': '1409532126798790656', 'text': 'RT @NASAArtemis: The FINAL bracket for the Name the #Artemis Moonikin Challenge is live:\\n\\nDelos: Nostalgic, romantic. The island where Apol…', 'source': 'Twitter Web App', 'source_url': 'https://mobile.twitter.com', 'retweet_count': 202, 'favorite_count': 0, 'lang': 'en'}, {'id': 1409243136682037251, 'id_str': '1409243136682037251', 'text': 'Check out the whereabouts of our @NASAPersevere rover on Mars with this interactive map. Track its latest location… https://t.co/vsGZk2ZJVc', 'source': 'Sprinklr', 'source_url': 'https://www.sprinklr.com', 'retweet_count': 730, 'favorite_count': 5844, 'lang': 'en'}, {'id': 1408896133238341635, 'id_str': '1408896133238341635', 'text': \"Are you a musician? Does exploration &amp; discovery inspire you?\\n\\n🥁🎶 It's time to break out those instruments!\\n\\nWe’d l… https://t.co/QBmBVjtyZp\", 'source': 'Sprinklr', 'source_url': 'https://www.sprinklr.com', 'retweet_count': 510, 'favorite_count': 2816, 'lang': 'en'}, {'id': 1408850117780770820, 'id_str': '1408850117780770820', 'text': 'Spacewalks. Launches. Science. Wows.\\n\\nWe have it all in one place. Subscribe to our NASA @YouTube channel to explor… https://t.co/xWEUA8bFWk', 'source': 'Sprinklr', 'source_url': 'https://www.sprinklr.com', 'retweet_count': 326, 'favorite_count': 2729, 'lang': 'en'}, {'id': 1408818586119032834, 'id_str': '1408818586119032834', 'text': 'RT @NASA_Johnson: Citizen science is just that, science by citizens! The Student Payload Opportunity with Citizen Science challenges studen…', 'source': 'Sprinklr', 'source_url': 'https://www.sprinklr.com', 'retweet_count': 140, 'favorite_count': 0, 'lang': 'en'}, {'id': 1408592349760999425, 'id_str': '1408592349760999425', 'text': 'ICYMI: We recently swore in Pam Melroy as our new deputy administrator, and the U.S.-European Sentinel-6 Michael Fr… https://t.co/UfspZPZNAZ', 'source': 'Sprinklr', 'source_url': 'https://www.sprinklr.com', 'retweet_count': 206, 'favorite_count': 1583, 'lang': 'en'}, {'id': 1408559881754497035, 'id_str': '1408559881754497035', 'text': '📸🤖 Our @NASAPersevere rover captured a historic selfie with our Ingenuity #MarsHelicopter on April 6, 2021. But how… https://t.co/yqeK5LLQKA', 'source': 'Twitter Media Studio', 'source_url': 'https://studio.twitter.com', 'retweet_count': 364, 'favorite_count': 2603, 'lang': 'en'}, {'id': 1408546410807562253, 'id_str': '1408546410807562253', 'text': 'RT @Dr_ThomasZ: Are we alone in the universe? So far, the only life we know of is right here on Earth. But here at NASA, we’re looking. Lea…', 'source': 'Twitter Web App', 'source_url': 'https://mobile.twitter.com', 'retweet_count': 352, 'favorite_count': 0, 'lang': 'en'}, {'id': 1408531927246807041, 'id_str': '1408531927246807041', 'text': 'This week aboard the @Space_Station: \\n\\n⚡️@Astro_Kimbrough &amp; @Thom_Astro complete two spacewalks \\n🔍 @Aki_Hoshide exp… https://t.co/Al0uzDhgK6', 'source': 'Sprinklr', 'source_url': 'https://www.sprinklr.com', 'retweet_count': 195, 'favorite_count': 1413, 'lang': 'en'}, {'id': 1408504186002620418, 'id_str': '1408504186002620418', 'text': 'RT @nasahqphoto: The International Space Station is seen in silhouette as it transits the Sun at roughly five miles per second while \\n@NASA…', 'source': 'Twitter Web App', 'source_url': 'https://mobile.twitter.com', 'retweet_count': 461, 'favorite_count': 0, 'lang': 'en'}, {'id': 1408502205326499843, 'id_str': '1408502205326499843', 'text': \"@Subhajit9997 What's awesome is this shot! 🤩Thank you for sharing. We're glad you were able to capture the last sup… https://t.co/ydkuqIvS9h\", 'source': 'Twitter Web App', 'source_url': 'https://mobile.twitter.com', 'in_reply_to_status_id': 1408133927269670920, 'in_reply_to_status_id_str': '1408133927269670920', 'in_reply_to_user_id': 1387504968316321793, 'in_reply_to_user_id_str': '1387504968316321793', 'in_reply_to_screen_name': 'Subhajit9997', 'retweet_count': 1, 'favorite_count': 7, 'lang': 'en'}, {'id': 1408501277219344393, 'id_str': '1408501277219344393', 'text': 'Job well done, @Astro_Kimbrough and @Thom_Astro! 👏👏 The astronaut duo are safely inside the @Space_Station, marking… https://t.co/q3SMBG4afn', 'source': 'Twitter Media Studio - LiveCut', 'source_url': 'https://www.twitter.com/', 'retweet_count': 385, 'favorite_count': 3975, 'lang': 'en'}, {'id': 1408488912536981518, 'id_str': '1408488912536981518', 'text': 'RT @Space_Station: The new 60-foot-long roll-out solar array has been fully deployed successfully! #AskNASA | https://t.co/lCvrNKHbhT https…', 'source': 'Twitter Web App', 'source_url': 'https://mobile.twitter.com', 'retweet_count': 421, 'favorite_count': 0, 'lang': 'en'}, {'id': 1408464803761471488, 'id_str': '1408464803761471488', 'text': 'Our astronauts know the drill! 🔩\\nAfter using the troubleshooting methods from the June 16 spacewalk, the pair of as… https://t.co/dQHcH154cX', 'source': 'Twitter Media Studio - LiveCut', 'source_url': 'https://www.twitter.com/', 'retweet_count': 507, 'favorite_count': 3997, 'lang': 'en'}, {'id': 1408449150916644864, 'id_str': '1408449150916644864', 'text': '@ExplosiveCat @Space_Station They can spacewalk as often as the replenishment of consumables can be accommodated li… https://t.co/KKAziWdk5p', 'source': 'TweetDeck', 'source_url': 'https://about.twitter.com/products/tweetdeck', 'in_reply_to_status_id': 1408439769521135622, 'in_reply_to_status_id_str': '1408439769521135622', 'in_reply_to_user_id': 359419637, 'in_reply_to_user_id_str': '359419637', 'in_reply_to_screen_name': 'ExplosiveCat', 'retweet_count': 1, 'favorite_count': 3, 'lang': 'en'}]\n"
     ]
    }
   ],
   "source": [
    "print(TweetsData)"
   ],
   "metadata": {
    "collapsed": false,
    "pycharm": {
     "name": "#%%\n"
    }
   }
  },
  {
   "cell_type": "code",
   "execution_count": 18,
   "outputs": [
    {
     "name": "stdout",
     "output_type": "stream",
     "text": [
      "<class 'pandas.core.frame.DataFrame'>\n",
      "['favorite_count', 'lang', 'in_reply_to_screen_name', 'in_reply_to_user_id_str', 'source', 'text', 'retweet_count', 'in_reply_to_status_id_str', 'in_reply_to_status_id', 'in_reply_to_user_id', 'id', 'source_url', 'id_str']\n",
      "{\"favorite_count\":{\"0\":3257,\"1\":6,\"2\":0,\"3\":3,\"4\":0,\"5\":0,\"6\":5844,\"7\":2816,\"8\":2729,\"9\":0,\"10\":1583,\"11\":2603,\"12\":0,\"13\":1413,\"14\":0,\"15\":7,\"16\":3975,\"17\":0,\"18\":3997,\"19\":3},\"lang\":{\"0\":\"en\",\"1\":\"en\",\"2\":\"en\",\"3\":\"en\",\"4\":\"en\",\"5\":\"en\",\"6\":\"en\",\"7\":\"en\",\"8\":\"en\",\"9\":\"en\",\"10\":\"en\",\"11\":\"en\",\"12\":\"en\",\"13\":\"en\",\"14\":\"en\",\"15\":\"en\",\"16\":\"en\",\"17\":\"en\",\"18\":\"en\",\"19\":\"en\"},\"in_reply_to_screen_name\":{\"0\":null,\"1\":\"pasmith\",\"2\":null,\"3\":\"davesalis\",\"4\":\"samrath_nagpal\",\"5\":null,\"6\":null,\"7\":null,\"8\":null,\"9\":null,\"10\":null,\"11\":null,\"12\":null,\"13\":null,\"14\":null,\"15\":\"Subhajit9997\",\"16\":null,\"17\":null,\"18\":null,\"19\":\"ExplosiveCat\"},\"in_reply_to_user_id_str\":{\"0\":null,\"1\":\"8104032\",\"2\":null,\"3\":\"292518517\",\"4\":\"862905028926779392\",\"5\":null,\"6\":null,\"7\":null,\"8\":null,\"9\":null,\"10\":null,\"11\":null,\"12\":null,\"13\":null,\"14\":null,\"15\":\"1387504968316321793\",\"16\":null,\"17\":null,\"18\":null,\"19\":\"359419637\"},\"source\":{\"0\":\"Sprinklr\",\"1\":\"Twitter for iPhone\",\"2\":\"Twitter Web App\",\"3\":\"Twitter Web App\",\"4\":\"Twitter for iPhone\",\"5\":\"Twitter Web App\",\"6\":\"Sprinklr\",\"7\":\"Sprinklr\",\"8\":\"Sprinklr\",\"9\":\"Sprinklr\",\"10\":\"Sprinklr\",\"11\":\"Twitter Media Studio\",\"12\":\"Twitter Web App\",\"13\":\"Sprinklr\",\"14\":\"Twitter Web App\",\"15\":\"Twitter Web App\",\"16\":\"Twitter Media Studio - LiveCut\",\"17\":\"Twitter Web App\",\"18\":\"Twitter Media Studio - LiveCut\",\"19\":\"TweetDeck\"},\"text\":{\"0\":\"Tomorrow, @NorthropGrumman's Cygnus cargo spacecraft, named the S.S. Katherine Johnson after the NASA mathematician\\u2026 https:\\/\\/t.co\\/82B4VeuHcN\",\"1\":\"@pasmith the space station crew members operate on Greenwich Mean Time\",\"2\":\"RT @Thom_astro: The International Space Station at night:\\n\\ud83d\\udfe2 lights in the @NASA Destiny lab\\n\\ud83d\\udfe1 lights in Node-2\\n\\ud83c\\udf0d reflections on the ceiling\\u2026\",\"3\":\"@davesalis When is liftoff? Looks great! \\ud83d\\ude80\",\"4\":\"@samrath_nagpal \\ud83d\\ude4c\\ud83d\\ude80 We\\u2019ll be waiting for him!\",\"5\":\"RT @NASAArtemis: The FINAL bracket for the Name the #Artemis Moonikin Challenge is live:\\n\\nDelos: Nostalgic, romantic. The island where Apol\\u2026\",\"6\":\"Check out the whereabouts of our @NASAPersevere rover on Mars with this interactive map. Track its latest location\\u2026 https:\\/\\/t.co\\/vsGZk2ZJVc\",\"7\":\"Are you a musician? Does exploration &amp; discovery inspire you?\\n\\n\\ud83e\\udd41\\ud83c\\udfb6 It's time to break out those instruments!\\n\\nWe\\u2019d l\\u2026 https:\\/\\/t.co\\/QBmBVjtyZp\",\"8\":\"Spacewalks. Launches. Science. Wows.\\n\\nWe have it all in one place. Subscribe to our NASA @YouTube channel to explor\\u2026 https:\\/\\/t.co\\/xWEUA8bFWk\",\"9\":\"RT @NASA_Johnson: Citizen science is just that, science by citizens! The Student Payload Opportunity with Citizen Science challenges studen\\u2026\",\"10\":\"ICYMI: We recently swore in Pam Melroy as our new deputy administrator, and the U.S.-European Sentinel-6 Michael Fr\\u2026 https:\\/\\/t.co\\/UfspZPZNAZ\",\"11\":\"\\ud83d\\udcf8\\ud83e\\udd16 Our @NASAPersevere rover captured a historic selfie with our Ingenuity #MarsHelicopter on April 6, 2021. But how\\u2026 https:\\/\\/t.co\\/yqeK5LLQKA\",\"12\":\"RT @Dr_ThomasZ: Are we alone in the universe? So far, the only life we know of is right here on Earth. But here at NASA, we\\u2019re looking. Lea\\u2026\",\"13\":\"This week aboard the @Space_Station: \\n\\n\\u26a1\\ufe0f@Astro_Kimbrough &amp; @Thom_Astro complete two spacewalks \\n\\ud83d\\udd0d @Aki_Hoshide exp\\u2026 https:\\/\\/t.co\\/Al0uzDhgK6\",\"14\":\"RT @nasahqphoto: The International Space Station is seen in silhouette as it transits the Sun at roughly five miles per second while \\n@NASA\\u2026\",\"15\":\"@Subhajit9997 What's awesome is this shot! \\ud83e\\udd29Thank you for sharing. We're glad you were able to capture the last sup\\u2026 https:\\/\\/t.co\\/ydkuqIvS9h\",\"16\":\"Job well done, @Astro_Kimbrough and @Thom_Astro! \\ud83d\\udc4f\\ud83d\\udc4f The astronaut duo are safely inside the @Space_Station, marking\\u2026 https:\\/\\/t.co\\/q3SMBG4afn\",\"17\":\"RT @Space_Station: The new 60-foot-long roll-out solar array has been fully deployed successfully! #AskNASA | https:\\/\\/t.co\\/lCvrNKHbhT https\\u2026\",\"18\":\"Our astronauts know the drill! \\ud83d\\udd29\\nAfter using the troubleshooting methods from the June 16 spacewalk, the pair of as\\u2026 https:\\/\\/t.co\\/dQHcH154cX\",\"19\":\"@ExplosiveCat @Space_Station They can spacewalk as often as the replenishment of consumables can be accommodated li\\u2026 https:\\/\\/t.co\\/KKAziWdk5p\"},\"retweet_count\":{\"0\":384,\"1\":0,\"2\":392,\"3\":1,\"4\":1,\"5\":202,\"6\":730,\"7\":510,\"8\":326,\"9\":140,\"10\":206,\"11\":364,\"12\":352,\"13\":195,\"14\":461,\"15\":1,\"16\":385,\"17\":421,\"18\":507,\"19\":1},\"in_reply_to_status_id_str\":{\"0\":null,\"1\":\"1409629338241228804\",\"2\":null,\"3\":\"1409399357196099585\",\"4\":\"1409543665265958916\",\"5\":null,\"6\":null,\"7\":null,\"8\":null,\"9\":null,\"10\":null,\"11\":null,\"12\":null,\"13\":null,\"14\":null,\"15\":\"1408133927269670920\",\"16\":null,\"17\":null,\"18\":null,\"19\":\"1408439769521135622\"},\"in_reply_to_status_id\":{\"0\":null,\"1\":1.409629338e+18,\"2\":null,\"3\":1.409399357e+18,\"4\":1.409543665e+18,\"5\":null,\"6\":null,\"7\":null,\"8\":null,\"9\":null,\"10\":null,\"11\":null,\"12\":null,\"13\":null,\"14\":null,\"15\":1.408133927e+18,\"16\":null,\"17\":null,\"18\":null,\"19\":1.40843977e+18},\"in_reply_to_user_id\":{\"0\":null,\"1\":8104032.0,\"2\":null,\"3\":292518517.0,\"4\":8.629050289e+17,\"5\":null,\"6\":null,\"7\":null,\"8\":null,\"9\":null,\"10\":null,\"11\":null,\"12\":null,\"13\":null,\"14\":null,\"15\":1.387504968e+18,\"16\":null,\"17\":null,\"18\":null,\"19\":359419637.0},\"id\":{\"0\":1409643778290315267,\"1\":1409631519572828164,\"2\":1409587260853415936,\"3\":1409580496020029449,\"4\":1409563099481448454,\"5\":1409532126798790656,\"6\":1409243136682037251,\"7\":1408896133238341635,\"8\":1408850117780770820,\"9\":1408818586119032834,\"10\":1408592349760999425,\"11\":1408559881754497035,\"12\":1408546410807562253,\"13\":1408531927246807041,\"14\":1408504186002620418,\"15\":1408502205326499843,\"16\":1408501277219344393,\"17\":1408488912536981518,\"18\":1408464803761471488,\"19\":1408449150916644864},\"source_url\":{\"0\":\"https:\\/\\/www.sprinklr.com\",\"1\":\"http:\\/\\/twitter.com\\/download\\/iphone\",\"2\":\"https:\\/\\/mobile.twitter.com\",\"3\":\"https:\\/\\/mobile.twitter.com\",\"4\":\"http:\\/\\/twitter.com\\/download\\/iphone\",\"5\":\"https:\\/\\/mobile.twitter.com\",\"6\":\"https:\\/\\/www.sprinklr.com\",\"7\":\"https:\\/\\/www.sprinklr.com\",\"8\":\"https:\\/\\/www.sprinklr.com\",\"9\":\"https:\\/\\/www.sprinklr.com\",\"10\":\"https:\\/\\/www.sprinklr.com\",\"11\":\"https:\\/\\/studio.twitter.com\",\"12\":\"https:\\/\\/mobile.twitter.com\",\"13\":\"https:\\/\\/www.sprinklr.com\",\"14\":\"https:\\/\\/mobile.twitter.com\",\"15\":\"https:\\/\\/mobile.twitter.com\",\"16\":\"https:\\/\\/www.twitter.com\\/\",\"17\":\"https:\\/\\/mobile.twitter.com\",\"18\":\"https:\\/\\/www.twitter.com\\/\",\"19\":\"https:\\/\\/about.twitter.com\\/products\\/tweetdeck\"},\"id_str\":{\"0\":\"1409643778290315267\",\"1\":\"1409631519572828164\",\"2\":\"1409587260853415936\",\"3\":\"1409580496020029449\",\"4\":\"1409563099481448454\",\"5\":\"1409532126798790656\",\"6\":\"1409243136682037251\",\"7\":\"1408896133238341635\",\"8\":\"1408850117780770820\",\"9\":\"1408818586119032834\",\"10\":\"1408592349760999425\",\"11\":\"1408559881754497035\",\"12\":\"1408546410807562253\",\"13\":\"1408531927246807041\",\"14\":\"1408504186002620418\",\"15\":\"1408502205326499843\",\"16\":\"1408501277219344393\",\"17\":\"1408488912536981518\",\"18\":\"1408464803761471488\",\"19\":\"1408449150916644864\"}}\n"
     ]
    }
   ],
   "source": [
    "df = pd.DataFrame(TweetsData,columns=header_cols)\n",
    "df.head()\n",
    "json = df.to_json()\n",
    "print(type(df))\n",
    "print(header_cols)\n",
    "# jsonify(json)\n",
    "print(json)"
   ],
   "metadata": {
    "collapsed": false,
    "pycharm": {
     "name": "#%%\n"
    }
   }
  }
 ],
 "metadata": {
  "kernelspec": {
   "display_name": "Python 3",
   "language": "python",
   "name": "python3"
  },
  "language_info": {
   "codemirror_mode": {
    "name": "ipython",
    "version": 2
   },
   "file_extension": ".py",
   "mimetype": "text/x-python",
   "name": "python",
   "nbconvert_exporter": "python",
   "pygments_lexer": "ipython2",
   "version": "2.7.6"
  }
 },
 "nbformat": 4,
 "nbformat_minor": 0
}